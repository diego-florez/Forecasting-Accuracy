{
 "cells": [
  {
   "cell_type": "markdown",
   "metadata": {},
   "source": [
    "#### Objective: predict 28 days, from d_1942 to d_1969"
   ]
  },
  {
   "cell_type": "code",
   "execution_count": 1,
   "metadata": {
    "scrolled": true
   },
   "outputs": [
    {
     "data": {
      "text/html": [
       "<table style=\"border: 2px solid white;\">\n",
       "<tr>\n",
       "<td style=\"vertical-align: top; border: 0px solid white\">\n",
       "<h3 style=\"text-align: left;\">Client</h3>\n",
       "<ul style=\"text-align: left; list-style: none; margin: 0; padding: 0;\">\n",
       "  <li><b>Scheduler: </b>tcp://127.0.0.1:41765</li>\n",
       "  <li><b>Dashboard: </b><a href='http://127.0.0.1:8787/status' target='_blank'>http://127.0.0.1:8787/status</a></li>\n",
       "</ul>\n",
       "</td>\n",
       "<td style=\"vertical-align: top; border: 0px solid white\">\n",
       "<h3 style=\"text-align: left;\">Cluster</h3>\n",
       "<ul style=\"text-align: left; list-style:none; margin: 0; padding: 0;\">\n",
       "  <li><b>Workers: </b>1</li>\n",
       "  <li><b>Cores: </b>1</li>\n",
       "  <li><b>Memory: </b>16.66 GB</li>\n",
       "</ul>\n",
       "</td>\n",
       "</tr>\n",
       "</table>"
      ],
      "text/plain": [
       "<Client: 'tcp://127.0.0.1:41765' processes=1 threads=1, memory=16.66 GB>"
      ]
     },
     "execution_count": 1,
     "metadata": {},
     "output_type": "execute_result"
    }
   ],
   "source": [
    "import numpy as np\n",
    "import pandas as pd\n",
    "\n",
    "import matplotlib.pyplot as plt\n",
    "\n",
    "%matplotlib inline\n",
    "\n",
    "import gc\n",
    "\n",
    "import dask\n",
    "import dask.dataframe as dd\n",
    "from dask_cuda import LocalCUDACluster\n",
    "from dask.distributed import Client\n",
    "\n",
    "# Create a Dask Cluster with one worker per GPU\n",
    "cluster = LocalCUDACluster()\n",
    "client = Client(cluster)\n",
    "client"
   ]
  },
  {
   "cell_type": "code",
   "execution_count": 2,
   "metadata": {},
   "outputs": [
    {
     "data": {
      "text/plain": [
       "{'temporary-directory': None,\n",
       " 'dataframe': {'shuffle-compression': None},\n",
       " 'array': {'svg': {'size': 120},\n",
       "  'chunk-size': '128MiB',\n",
       "  'rechunk-threshold': 4},\n",
       " 'optimization': {'fuse': {'active': True,\n",
       "   'ave-width': 1,\n",
       "   'max-width': None,\n",
       "   'max-height': inf,\n",
       "   'max-depth-new-edges': None,\n",
       "   'subgraphs': None,\n",
       "   'rename-keys': True}},\n",
       " 'distributed': {'version': 2,\n",
       "  'scheduler': {'allowed-failures': 3,\n",
       "   'bandwidth': 100000000,\n",
       "   'blocked-handlers': [],\n",
       "   'default-data-size': '1kiB',\n",
       "   'events-cleanup-delay': '1h',\n",
       "   'idle-timeout': None,\n",
       "   'transition-log-length': 100000,\n",
       "   'work-stealing': True,\n",
       "   'work-stealing-interval': '100ms',\n",
       "   'worker-ttl': None,\n",
       "   'pickle': True,\n",
       "   'preload': [],\n",
       "   'preload-argv': [],\n",
       "   'unknown-task-duration': '500ms',\n",
       "   'default-task-durations': {'rechunk-split': '1us', 'shuffle-split': '1us'},\n",
       "   'validate': False,\n",
       "   'dashboard': {'status': {'task-stream-length': 1000},\n",
       "    'tasks': {'task-stream-length': 100000},\n",
       "    'tls': {'ca-file': None, 'key': None, 'cert': None},\n",
       "    'bokeh-application': {'allow_websocket_origin': ['*'],\n",
       "     'keep_alive_milliseconds': 500,\n",
       "     'check_unused_sessions_milliseconds': 500}},\n",
       "   'locks': {'lease-validation-interval': '10s', 'lease-timeout': '30s'},\n",
       "   'http': {'routes': ['distributed.http.scheduler.prometheus',\n",
       "     'distributed.http.scheduler.info',\n",
       "     'distributed.http.scheduler.json',\n",
       "     'distributed.http.health',\n",
       "     'distributed.http.proxy',\n",
       "     'distributed.http.statics']}},\n",
       "  'worker': {'blocked-handlers': [],\n",
       "   'multiprocessing-method': 'spawn',\n",
       "   'use-file-locking': True,\n",
       "   'connections': {'outgoing': 50, 'incoming': 10},\n",
       "   'preload': [],\n",
       "   'preload-argv': [],\n",
       "   'daemon': True,\n",
       "   'validate': False,\n",
       "   'lifetime': {'duration': None, 'stagger': '0 seconds', 'restart': False},\n",
       "   'profile': {'interval': '10ms', 'cycle': '1000ms', 'low-level': False},\n",
       "   'memory': {'target': 0.6, 'spill': 0.7, 'pause': 0.8, 'terminate': 0.95},\n",
       "   'http': {'routes': ['distributed.http.worker.prometheus',\n",
       "     'distributed.http.health',\n",
       "     'distributed.http.statics']}},\n",
       "  'nanny': {'preload': [], 'preload-argv': []},\n",
       "  'client': {'heartbeat': '5s', 'scheduler-info-interval': '2s'},\n",
       "  'deploy': {'lost-worker-timeout': '15s', 'cluster-repr-interval': '500ms'},\n",
       "  'adaptive': {'interval': '1s',\n",
       "   'target-duration': '5s',\n",
       "   'minimum': 0,\n",
       "   'maximum': inf,\n",
       "   'wait-count': 3},\n",
       "  'comm': {'retry': {'count': 0, 'delay': {'min': '1s', 'max': '20s'}},\n",
       "   'compression': 'auto',\n",
       "   'offload': '10MiB',\n",
       "   'default-scheme': 'tcp',\n",
       "   'socket-backlog': 2048,\n",
       "   'recent-messages-log-length': 0,\n",
       "   'zstd': {'level': 3, 'threads': 0},\n",
       "   'timeouts': {'connect': '10s', 'tcp': '30s'},\n",
       "   'require-encryption': None,\n",
       "   'tls': {'ciphers': None,\n",
       "    'ca-file': None,\n",
       "    'scheduler': {'cert': None, 'key': None},\n",
       "    'worker': {'key': None, 'cert': None},\n",
       "    'client': {'key': None, 'cert': None}}},\n",
       "  'dashboard': {'link': '{scheme}://{host}:{port}/status',\n",
       "   'export-tool': False,\n",
       "   'graph-max-items': 5000},\n",
       "  'admin': {'tick': {'interval': '20ms', 'limit': '3s'},\n",
       "   'max-error-length': 10000,\n",
       "   'log-length': 10000,\n",
       "   'log-format': '%(name)s - %(levelname)s - %(message)s',\n",
       "   'pdb-on-err': False}},\n",
       " 'rmm': {'pool-size': None},\n",
       " 'ucx': {'tcp': None,\n",
       "  'nvlink': None,\n",
       "  'infiniband': None,\n",
       "  'rdmacm': None,\n",
       "  'cuda_copy': None,\n",
       "  'net-devices': None},\n",
       " 'scheduler': 'dask.distributed',\n",
       " 'shuffle': 'tasks'}"
      ]
     },
     "execution_count": 2,
     "metadata": {},
     "output_type": "execute_result"
    }
   ],
   "source": [
    "dask.config.config"
   ]
  },
  {
   "cell_type": "markdown",
   "metadata": {},
   "source": [
    "### Load & Check Datasets"
   ]
  },
  {
   "cell_type": "code",
   "execution_count": 3,
   "metadata": {
    "scrolled": false
   },
   "outputs": [
    {
     "name": "stdout",
     "output_type": "stream",
     "text": [
      "30490 , 1947\n"
     ]
    },
    {
     "data": {
      "text/html": [
       "<div>\n",
       "<style scoped>\n",
       "    .dataframe tbody tr th:only-of-type {\n",
       "        vertical-align: middle;\n",
       "    }\n",
       "\n",
       "    .dataframe tbody tr th {\n",
       "        vertical-align: top;\n",
       "    }\n",
       "\n",
       "    .dataframe thead th {\n",
       "        text-align: right;\n",
       "    }\n",
       "</style>\n",
       "<table border=\"1\" class=\"dataframe\">\n",
       "  <thead>\n",
       "    <tr style=\"text-align: right;\">\n",
       "      <th></th>\n",
       "      <th>id</th>\n",
       "      <th>item_id</th>\n",
       "      <th>dept_id</th>\n",
       "      <th>cat_id</th>\n",
       "      <th>store_id</th>\n",
       "      <th>state_id</th>\n",
       "      <th>d_1</th>\n",
       "      <th>d_2</th>\n",
       "      <th>d_3</th>\n",
       "      <th>d_4</th>\n",
       "      <th>...</th>\n",
       "      <th>d_1932</th>\n",
       "      <th>d_1933</th>\n",
       "      <th>d_1934</th>\n",
       "      <th>d_1935</th>\n",
       "      <th>d_1936</th>\n",
       "      <th>d_1937</th>\n",
       "      <th>d_1938</th>\n",
       "      <th>d_1939</th>\n",
       "      <th>d_1940</th>\n",
       "      <th>d_1941</th>\n",
       "    </tr>\n",
       "  </thead>\n",
       "  <tbody>\n",
       "    <tr>\n",
       "      <th>0</th>\n",
       "      <td>HOBBIES_1_001_CA_1_evaluation</td>\n",
       "      <td>HOBBIES_1_001</td>\n",
       "      <td>HOBBIES_1</td>\n",
       "      <td>HOBBIES</td>\n",
       "      <td>CA_1</td>\n",
       "      <td>CA</td>\n",
       "      <td>0</td>\n",
       "      <td>0</td>\n",
       "      <td>0</td>\n",
       "      <td>0</td>\n",
       "      <td>...</td>\n",
       "      <td>2</td>\n",
       "      <td>4</td>\n",
       "      <td>0</td>\n",
       "      <td>0</td>\n",
       "      <td>0</td>\n",
       "      <td>0</td>\n",
       "      <td>3</td>\n",
       "      <td>3</td>\n",
       "      <td>0</td>\n",
       "      <td>1</td>\n",
       "    </tr>\n",
       "    <tr>\n",
       "      <th>1</th>\n",
       "      <td>HOBBIES_1_002_CA_1_evaluation</td>\n",
       "      <td>HOBBIES_1_002</td>\n",
       "      <td>HOBBIES_1</td>\n",
       "      <td>HOBBIES</td>\n",
       "      <td>CA_1</td>\n",
       "      <td>CA</td>\n",
       "      <td>0</td>\n",
       "      <td>0</td>\n",
       "      <td>0</td>\n",
       "      <td>0</td>\n",
       "      <td>...</td>\n",
       "      <td>0</td>\n",
       "      <td>1</td>\n",
       "      <td>2</td>\n",
       "      <td>1</td>\n",
       "      <td>1</td>\n",
       "      <td>0</td>\n",
       "      <td>0</td>\n",
       "      <td>0</td>\n",
       "      <td>0</td>\n",
       "      <td>0</td>\n",
       "    </tr>\n",
       "    <tr>\n",
       "      <th>2</th>\n",
       "      <td>HOBBIES_1_003_CA_1_evaluation</td>\n",
       "      <td>HOBBIES_1_003</td>\n",
       "      <td>HOBBIES_1</td>\n",
       "      <td>HOBBIES</td>\n",
       "      <td>CA_1</td>\n",
       "      <td>CA</td>\n",
       "      <td>0</td>\n",
       "      <td>0</td>\n",
       "      <td>0</td>\n",
       "      <td>0</td>\n",
       "      <td>...</td>\n",
       "      <td>1</td>\n",
       "      <td>0</td>\n",
       "      <td>2</td>\n",
       "      <td>0</td>\n",
       "      <td>0</td>\n",
       "      <td>0</td>\n",
       "      <td>2</td>\n",
       "      <td>3</td>\n",
       "      <td>0</td>\n",
       "      <td>1</td>\n",
       "    </tr>\n",
       "    <tr>\n",
       "      <th>3</th>\n",
       "      <td>HOBBIES_1_004_CA_1_evaluation</td>\n",
       "      <td>HOBBIES_1_004</td>\n",
       "      <td>HOBBIES_1</td>\n",
       "      <td>HOBBIES</td>\n",
       "      <td>CA_1</td>\n",
       "      <td>CA</td>\n",
       "      <td>0</td>\n",
       "      <td>0</td>\n",
       "      <td>0</td>\n",
       "      <td>0</td>\n",
       "      <td>...</td>\n",
       "      <td>1</td>\n",
       "      <td>1</td>\n",
       "      <td>0</td>\n",
       "      <td>4</td>\n",
       "      <td>0</td>\n",
       "      <td>1</td>\n",
       "      <td>3</td>\n",
       "      <td>0</td>\n",
       "      <td>2</td>\n",
       "      <td>6</td>\n",
       "    </tr>\n",
       "    <tr>\n",
       "      <th>4</th>\n",
       "      <td>HOBBIES_1_005_CA_1_evaluation</td>\n",
       "      <td>HOBBIES_1_005</td>\n",
       "      <td>HOBBIES_1</td>\n",
       "      <td>HOBBIES</td>\n",
       "      <td>CA_1</td>\n",
       "      <td>CA</td>\n",
       "      <td>0</td>\n",
       "      <td>0</td>\n",
       "      <td>0</td>\n",
       "      <td>0</td>\n",
       "      <td>...</td>\n",
       "      <td>0</td>\n",
       "      <td>0</td>\n",
       "      <td>0</td>\n",
       "      <td>2</td>\n",
       "      <td>1</td>\n",
       "      <td>0</td>\n",
       "      <td>0</td>\n",
       "      <td>2</td>\n",
       "      <td>1</td>\n",
       "      <td>0</td>\n",
       "    </tr>\n",
       "  </tbody>\n",
       "</table>\n",
       "<p>5 rows × 1947 columns</p>\n",
       "</div>"
      ],
      "text/plain": [
       "                              id        item_id    dept_id   cat_id store_id  \\\n",
       "0  HOBBIES_1_001_CA_1_evaluation  HOBBIES_1_001  HOBBIES_1  HOBBIES     CA_1   \n",
       "1  HOBBIES_1_002_CA_1_evaluation  HOBBIES_1_002  HOBBIES_1  HOBBIES     CA_1   \n",
       "2  HOBBIES_1_003_CA_1_evaluation  HOBBIES_1_003  HOBBIES_1  HOBBIES     CA_1   \n",
       "3  HOBBIES_1_004_CA_1_evaluation  HOBBIES_1_004  HOBBIES_1  HOBBIES     CA_1   \n",
       "4  HOBBIES_1_005_CA_1_evaluation  HOBBIES_1_005  HOBBIES_1  HOBBIES     CA_1   \n",
       "\n",
       "  state_id  d_1  d_2  d_3  d_4  ...  d_1932  d_1933  d_1934  d_1935  d_1936  \\\n",
       "0       CA    0    0    0    0  ...       2       4       0       0       0   \n",
       "1       CA    0    0    0    0  ...       0       1       2       1       1   \n",
       "2       CA    0    0    0    0  ...       1       0       2       0       0   \n",
       "3       CA    0    0    0    0  ...       1       1       0       4       0   \n",
       "4       CA    0    0    0    0  ...       0       0       0       2       1   \n",
       "\n",
       "   d_1937  d_1938  d_1939  d_1940  d_1941  \n",
       "0       0       3       3       0       1  \n",
       "1       0       0       0       0       0  \n",
       "2       0       2       3       0       1  \n",
       "3       1       3       0       2       6  \n",
       "4       0       0       2       1       0  \n",
       "\n",
       "[5 rows x 1947 columns]"
      ]
     },
     "execution_count": 3,
     "metadata": {},
     "output_type": "execute_result"
    }
   ],
   "source": [
    "sales = dd.read_csv(\"INPUT/sales_train_evaluation.csv\")\n",
    "print(len(sales),\",\", len(sales.columns))\n",
    "sales.head()"
   ]
  },
  {
   "cell_type": "code",
   "execution_count": 4,
   "metadata": {},
   "outputs": [],
   "source": [
    "#as they ask us to predict 1942-1969 days we need this days in sales\n",
    "for d in range(1942,1970):\n",
    "    sales[\"d_\" + str(d)] = int(0)"
   ]
  },
  {
   "cell_type": "code",
   "execution_count": 5,
   "metadata": {},
   "outputs": [
    {
     "data": {
      "text/plain": [
       "False"
      ]
     },
     "execution_count": 5,
     "metadata": {},
     "output_type": "execute_result"
    }
   ],
   "source": [
    "sales.isnull().sum().compute().any()"
   ]
  },
  {
   "cell_type": "code",
   "execution_count": 6,
   "metadata": {
    "scrolled": true
   },
   "outputs": [
    {
     "name": "stdout",
     "output_type": "stream",
     "text": [
      "1969 , 14\n"
     ]
    },
    {
     "data": {
      "text/html": [
       "<div>\n",
       "<style scoped>\n",
       "    .dataframe tbody tr th:only-of-type {\n",
       "        vertical-align: middle;\n",
       "    }\n",
       "\n",
       "    .dataframe tbody tr th {\n",
       "        vertical-align: top;\n",
       "    }\n",
       "\n",
       "    .dataframe thead th {\n",
       "        text-align: right;\n",
       "    }\n",
       "</style>\n",
       "<table border=\"1\" class=\"dataframe\">\n",
       "  <thead>\n",
       "    <tr style=\"text-align: right;\">\n",
       "      <th></th>\n",
       "      <th>date</th>\n",
       "      <th>wm_yr_wk</th>\n",
       "      <th>weekday</th>\n",
       "      <th>wday</th>\n",
       "      <th>month</th>\n",
       "      <th>year</th>\n",
       "      <th>d</th>\n",
       "      <th>event_name_1</th>\n",
       "      <th>event_type_1</th>\n",
       "      <th>event_name_2</th>\n",
       "      <th>event_type_2</th>\n",
       "      <th>snap_CA</th>\n",
       "      <th>snap_TX</th>\n",
       "      <th>snap_WI</th>\n",
       "    </tr>\n",
       "  </thead>\n",
       "  <tbody>\n",
       "    <tr>\n",
       "      <th>0</th>\n",
       "      <td>2011-01-29</td>\n",
       "      <td>11101</td>\n",
       "      <td>Saturday</td>\n",
       "      <td>1</td>\n",
       "      <td>1</td>\n",
       "      <td>2011</td>\n",
       "      <td>d_1</td>\n",
       "      <td>NaN</td>\n",
       "      <td>NaN</td>\n",
       "      <td>NaN</td>\n",
       "      <td>NaN</td>\n",
       "      <td>0</td>\n",
       "      <td>0</td>\n",
       "      <td>0</td>\n",
       "    </tr>\n",
       "    <tr>\n",
       "      <th>1</th>\n",
       "      <td>2011-01-30</td>\n",
       "      <td>11101</td>\n",
       "      <td>Sunday</td>\n",
       "      <td>2</td>\n",
       "      <td>1</td>\n",
       "      <td>2011</td>\n",
       "      <td>d_2</td>\n",
       "      <td>NaN</td>\n",
       "      <td>NaN</td>\n",
       "      <td>NaN</td>\n",
       "      <td>NaN</td>\n",
       "      <td>0</td>\n",
       "      <td>0</td>\n",
       "      <td>0</td>\n",
       "    </tr>\n",
       "    <tr>\n",
       "      <th>2</th>\n",
       "      <td>2011-01-31</td>\n",
       "      <td>11101</td>\n",
       "      <td>Monday</td>\n",
       "      <td>3</td>\n",
       "      <td>1</td>\n",
       "      <td>2011</td>\n",
       "      <td>d_3</td>\n",
       "      <td>NaN</td>\n",
       "      <td>NaN</td>\n",
       "      <td>NaN</td>\n",
       "      <td>NaN</td>\n",
       "      <td>0</td>\n",
       "      <td>0</td>\n",
       "      <td>0</td>\n",
       "    </tr>\n",
       "    <tr>\n",
       "      <th>3</th>\n",
       "      <td>2011-02-01</td>\n",
       "      <td>11101</td>\n",
       "      <td>Tuesday</td>\n",
       "      <td>4</td>\n",
       "      <td>2</td>\n",
       "      <td>2011</td>\n",
       "      <td>d_4</td>\n",
       "      <td>NaN</td>\n",
       "      <td>NaN</td>\n",
       "      <td>NaN</td>\n",
       "      <td>NaN</td>\n",
       "      <td>1</td>\n",
       "      <td>1</td>\n",
       "      <td>0</td>\n",
       "    </tr>\n",
       "    <tr>\n",
       "      <th>4</th>\n",
       "      <td>2011-02-02</td>\n",
       "      <td>11101</td>\n",
       "      <td>Wednesday</td>\n",
       "      <td>5</td>\n",
       "      <td>2</td>\n",
       "      <td>2011</td>\n",
       "      <td>d_5</td>\n",
       "      <td>NaN</td>\n",
       "      <td>NaN</td>\n",
       "      <td>NaN</td>\n",
       "      <td>NaN</td>\n",
       "      <td>1</td>\n",
       "      <td>0</td>\n",
       "      <td>1</td>\n",
       "    </tr>\n",
       "  </tbody>\n",
       "</table>\n",
       "</div>"
      ],
      "text/plain": [
       "         date  wm_yr_wk    weekday  wday  month  year    d event_name_1  \\\n",
       "0  2011-01-29     11101   Saturday     1      1  2011  d_1          NaN   \n",
       "1  2011-01-30     11101     Sunday     2      1  2011  d_2          NaN   \n",
       "2  2011-01-31     11101     Monday     3      1  2011  d_3          NaN   \n",
       "3  2011-02-01     11101    Tuesday     4      2  2011  d_4          NaN   \n",
       "4  2011-02-02     11101  Wednesday     5      2  2011  d_5          NaN   \n",
       "\n",
       "  event_type_1 event_name_2 event_type_2  snap_CA  snap_TX  snap_WI  \n",
       "0          NaN          NaN          NaN        0        0        0  \n",
       "1          NaN          NaN          NaN        0        0        0  \n",
       "2          NaN          NaN          NaN        0        0        0  \n",
       "3          NaN          NaN          NaN        1        1        0  \n",
       "4          NaN          NaN          NaN        1        0        1  "
      ]
     },
     "execution_count": 6,
     "metadata": {},
     "output_type": "execute_result"
    }
   ],
   "source": [
    "calendar = dd.read_csv(\"INPUT/calendar.csv\")\n",
    "print(len(calendar),\",\", len(calendar.columns))\n",
    "calendar.head()"
   ]
  },
  {
   "cell_type": "code",
   "execution_count": 7,
   "metadata": {
    "scrolled": true
   },
   "outputs": [
    {
     "data": {
      "text/plain": [
       "date               0\n",
       "wm_yr_wk           0\n",
       "weekday            0\n",
       "wday               0\n",
       "month              0\n",
       "year               0\n",
       "d                  0\n",
       "event_name_1    1807\n",
       "event_type_1    1807\n",
       "event_name_2    1964\n",
       "event_type_2    1964\n",
       "snap_CA            0\n",
       "snap_TX            0\n",
       "snap_WI            0\n",
       "dtype: int64"
      ]
     },
     "execution_count": 7,
     "metadata": {},
     "output_type": "execute_result"
    }
   ],
   "source": [
    "calendar.isnull().sum().compute()"
   ]
  },
  {
   "cell_type": "code",
   "execution_count": 8,
   "metadata": {},
   "outputs": [],
   "source": [
    "calendar = calendar.fillna(\"no event\")"
   ]
  },
  {
   "cell_type": "code",
   "execution_count": 9,
   "metadata": {
    "scrolled": true
   },
   "outputs": [
    {
     "name": "stdout",
     "output_type": "stream",
     "text": [
      "6841121 , 4\n"
     ]
    },
    {
     "data": {
      "text/html": [
       "<div>\n",
       "<style scoped>\n",
       "    .dataframe tbody tr th:only-of-type {\n",
       "        vertical-align: middle;\n",
       "    }\n",
       "\n",
       "    .dataframe tbody tr th {\n",
       "        vertical-align: top;\n",
       "    }\n",
       "\n",
       "    .dataframe thead th {\n",
       "        text-align: right;\n",
       "    }\n",
       "</style>\n",
       "<table border=\"1\" class=\"dataframe\">\n",
       "  <thead>\n",
       "    <tr style=\"text-align: right;\">\n",
       "      <th></th>\n",
       "      <th>store_id</th>\n",
       "      <th>item_id</th>\n",
       "      <th>wm_yr_wk</th>\n",
       "      <th>sell_price</th>\n",
       "    </tr>\n",
       "  </thead>\n",
       "  <tbody>\n",
       "    <tr>\n",
       "      <th>0</th>\n",
       "      <td>CA_1</td>\n",
       "      <td>HOBBIES_1_001</td>\n",
       "      <td>11325</td>\n",
       "      <td>9.58</td>\n",
       "    </tr>\n",
       "    <tr>\n",
       "      <th>1</th>\n",
       "      <td>CA_1</td>\n",
       "      <td>HOBBIES_1_001</td>\n",
       "      <td>11326</td>\n",
       "      <td>9.58</td>\n",
       "    </tr>\n",
       "    <tr>\n",
       "      <th>2</th>\n",
       "      <td>CA_1</td>\n",
       "      <td>HOBBIES_1_001</td>\n",
       "      <td>11327</td>\n",
       "      <td>8.26</td>\n",
       "    </tr>\n",
       "    <tr>\n",
       "      <th>3</th>\n",
       "      <td>CA_1</td>\n",
       "      <td>HOBBIES_1_001</td>\n",
       "      <td>11328</td>\n",
       "      <td>8.26</td>\n",
       "    </tr>\n",
       "    <tr>\n",
       "      <th>4</th>\n",
       "      <td>CA_1</td>\n",
       "      <td>HOBBIES_1_001</td>\n",
       "      <td>11329</td>\n",
       "      <td>8.26</td>\n",
       "    </tr>\n",
       "  </tbody>\n",
       "</table>\n",
       "</div>"
      ],
      "text/plain": [
       "  store_id        item_id  wm_yr_wk  sell_price\n",
       "0     CA_1  HOBBIES_1_001     11325        9.58\n",
       "1     CA_1  HOBBIES_1_001     11326        9.58\n",
       "2     CA_1  HOBBIES_1_001     11327        8.26\n",
       "3     CA_1  HOBBIES_1_001     11328        8.26\n",
       "4     CA_1  HOBBIES_1_001     11329        8.26"
      ]
     },
     "execution_count": 9,
     "metadata": {},
     "output_type": "execute_result"
    }
   ],
   "source": [
    "price = dd.read_csv(\"INPUT/sell_prices.csv\")\n",
    "print(len(price),\",\", len(price.columns))\n",
    "price.head()"
   ]
  },
  {
   "cell_type": "code",
   "execution_count": 10,
   "metadata": {},
   "outputs": [
    {
     "data": {
      "text/plain": [
       "store_id      0\n",
       "item_id       0\n",
       "wm_yr_wk      0\n",
       "sell_price    0\n",
       "dtype: int64"
      ]
     },
     "execution_count": 10,
     "metadata": {},
     "output_type": "execute_result"
    }
   ],
   "source": [
    "price.isnull().sum().compute()"
   ]
  },
  {
   "cell_type": "markdown",
   "metadata": {},
   "source": [
    "### Downcasting"
   ]
  },
  {
   "cell_type": "code",
   "execution_count": 11,
   "metadata": {},
   "outputs": [
    {
     "name": "stdout",
     "output_type": "stream",
     "text": [
      "<class 'dask.dataframe.core.DataFrame'>\n",
      "Columns: 1975 entries, id to d_1969\n",
      "dtypes: object(6), int64(1969)"
     ]
    }
   ],
   "source": [
    "sales.info()"
   ]
  },
  {
   "cell_type": "code",
   "execution_count": 12,
   "metadata": {},
   "outputs": [
    {
     "name": "stdout",
     "output_type": "stream",
     "text": [
      "<class 'dask.dataframe.core.DataFrame'>\n",
      "Columns: 14 entries, date to snap_WI\n",
      "dtypes: object(7), int64(7)"
     ]
    }
   ],
   "source": [
    "calendar.info()"
   ]
  },
  {
   "cell_type": "code",
   "execution_count": 13,
   "metadata": {},
   "outputs": [
    {
     "name": "stdout",
     "output_type": "stream",
     "text": [
      "<class 'dask.dataframe.core.DataFrame'>\n",
      "Columns: 4 entries, store_id to sell_price\n",
      "dtypes: object(2), float64(1), int64(1)"
     ]
    }
   ],
   "source": [
    "price.info()"
   ]
  },
  {
   "cell_type": "code",
   "execution_count": 14,
   "metadata": {},
   "outputs": [],
   "source": [
    "sales = sales.compute()\n",
    "calendar = calendar.compute()\n",
    "price = price.compute()"
   ]
  },
  {
   "cell_type": "code",
   "execution_count": 15,
   "metadata": {},
   "outputs": [
    {
     "name": "stdout",
     "output_type": "stream",
     "text": [
      "Memory in: 470.04 MB\n",
      "Starting integers.\n",
      "Starting objects.\n",
      "Memory out: 68.26 MB\n",
      "Reduction: 85.5%\n",
      "Memory in: 0.96 MB\n",
      "Starting integers.\n",
      "Starting objects.\n",
      "Memory out: 0.27 MB\n",
      "Reduction: 71.3%\n",
      "Memory in: 1009.71 MB\n",
      "Starting integers.\n",
      "Starting objects.\n",
      "Memory out: 137.29 MB\n",
      "Reduction: 86.4%\n"
     ]
    }
   ],
   "source": [
    "from skmem import MemReducer\n",
    "\n",
    "mr = MemReducer()\n",
    "\n",
    "sales = mr.fit_transform(sales)\n",
    "calendar = mr.fit_transform(calendar)\n",
    "price = mr.fit_transform(price)"
   ]
  },
  {
   "cell_type": "code",
   "execution_count": 16,
   "metadata": {},
   "outputs": [],
   "source": [
    "sales = dd.from_pandas(sales, npartitions=8)\n",
    "calendar = dd.from_pandas(calendar, npartitions=8)\n",
    "price = dd.from_pandas(price, npartitions=8)"
   ]
  },
  {
   "cell_type": "code",
   "execution_count": 17,
   "metadata": {},
   "outputs": [
    {
     "name": "stdout",
     "output_type": "stream",
     "text": [
      "<class 'dask.dataframe.core.DataFrame'>\n",
      "Columns: 1975 entries, id to d_1969\n",
      "dtypes: category(1), category(1), category(1), category(1), category(1), object(1), uint16(269), uint8(1700)"
     ]
    }
   ],
   "source": [
    "sales.info()"
   ]
  },
  {
   "cell_type": "code",
   "execution_count": 18,
   "metadata": {},
   "outputs": [
    {
     "name": "stdout",
     "output_type": "stream",
     "text": [
      "<class 'dask.dataframe.core.DataFrame'>\n",
      "Columns: 14 entries, date to snap_WI\n",
      "dtypes: category(1), category(1), category(1), category(1), category(1), datetime64[ns](1), object(1), uint16(2), uint8(5)"
     ]
    }
   ],
   "source": [
    "#we will change date to datetime, otherwise pyplot will take it as a string a won't plot it as time series\n",
    "calendar.date = dd.to_datetime(calendar.date)\n",
    "\n",
    "calendar.info()"
   ]
  },
  {
   "cell_type": "code",
   "execution_count": 19,
   "metadata": {},
   "outputs": [
    {
     "name": "stdout",
     "output_type": "stream",
     "text": [
      "<class 'dask.dataframe.core.DataFrame'>\n",
      "Columns: 4 entries, store_id to sell_price\n",
      "dtypes: category(1), category(1), float64(1), uint16(1)"
     ]
    }
   ],
   "source": [
    "price.info()"
   ]
  },
  {
   "cell_type": "markdown",
   "metadata": {},
   "source": [
    "### Melting & Merging "
   ]
  },
  {
   "cell_type": "code",
   "execution_count": 20,
   "metadata": {
    "scrolled": true
   },
   "outputs": [
    {
     "name": "stdout",
     "output_type": "stream",
     "text": [
      "60034810 , 8\n"
     ]
    },
    {
     "data": {
      "text/html": [
       "<div>\n",
       "<style scoped>\n",
       "    .dataframe tbody tr th:only-of-type {\n",
       "        vertical-align: middle;\n",
       "    }\n",
       "\n",
       "    .dataframe tbody tr th {\n",
       "        vertical-align: top;\n",
       "    }\n",
       "\n",
       "    .dataframe thead th {\n",
       "        text-align: right;\n",
       "    }\n",
       "</style>\n",
       "<table border=\"1\" class=\"dataframe\">\n",
       "  <thead>\n",
       "    <tr style=\"text-align: right;\">\n",
       "      <th></th>\n",
       "      <th>id</th>\n",
       "      <th>item_id</th>\n",
       "      <th>dept_id</th>\n",
       "      <th>cat_id</th>\n",
       "      <th>store_id</th>\n",
       "      <th>state_id</th>\n",
       "      <th>d</th>\n",
       "      <th>sales</th>\n",
       "    </tr>\n",
       "  </thead>\n",
       "  <tbody>\n",
       "    <tr>\n",
       "      <th>0</th>\n",
       "      <td>HOBBIES_1_001_CA_1_evaluation</td>\n",
       "      <td>HOBBIES_1_001</td>\n",
       "      <td>HOBBIES_1</td>\n",
       "      <td>HOBBIES</td>\n",
       "      <td>CA_1</td>\n",
       "      <td>CA</td>\n",
       "      <td>d_1</td>\n",
       "      <td>0</td>\n",
       "    </tr>\n",
       "    <tr>\n",
       "      <th>1</th>\n",
       "      <td>HOUSEHOLD_1_220_TX_2_evaluation</td>\n",
       "      <td>HOUSEHOLD_1_220</td>\n",
       "      <td>HOUSEHOLD_1</td>\n",
       "      <td>HOUSEHOLD</td>\n",
       "      <td>TX_2</td>\n",
       "      <td>TX</td>\n",
       "      <td>d_1</td>\n",
       "      <td>0</td>\n",
       "    </tr>\n",
       "    <tr>\n",
       "      <th>2</th>\n",
       "      <td>HOUSEHOLD_1_221_TX_2_evaluation</td>\n",
       "      <td>HOUSEHOLD_1_221</td>\n",
       "      <td>HOUSEHOLD_1</td>\n",
       "      <td>HOUSEHOLD</td>\n",
       "      <td>TX_2</td>\n",
       "      <td>TX</td>\n",
       "      <td>d_1</td>\n",
       "      <td>0</td>\n",
       "    </tr>\n",
       "    <tr>\n",
       "      <th>3</th>\n",
       "      <td>HOBBIES_1_002_CA_1_evaluation</td>\n",
       "      <td>HOBBIES_1_002</td>\n",
       "      <td>HOBBIES_1</td>\n",
       "      <td>HOBBIES</td>\n",
       "      <td>CA_1</td>\n",
       "      <td>CA</td>\n",
       "      <td>d_1</td>\n",
       "      <td>0</td>\n",
       "    </tr>\n",
       "    <tr>\n",
       "      <th>4</th>\n",
       "      <td>HOBBIES_1_003_CA_1_evaluation</td>\n",
       "      <td>HOBBIES_1_003</td>\n",
       "      <td>HOBBIES_1</td>\n",
       "      <td>HOBBIES</td>\n",
       "      <td>CA_1</td>\n",
       "      <td>CA</td>\n",
       "      <td>d_1</td>\n",
       "      <td>0</td>\n",
       "    </tr>\n",
       "  </tbody>\n",
       "</table>\n",
       "</div>"
      ],
      "text/plain": [
       "                                id          item_id      dept_id     cat_id  \\\n",
       "0    HOBBIES_1_001_CA_1_evaluation    HOBBIES_1_001    HOBBIES_1    HOBBIES   \n",
       "1  HOUSEHOLD_1_220_TX_2_evaluation  HOUSEHOLD_1_220  HOUSEHOLD_1  HOUSEHOLD   \n",
       "2  HOUSEHOLD_1_221_TX_2_evaluation  HOUSEHOLD_1_221  HOUSEHOLD_1  HOUSEHOLD   \n",
       "3    HOBBIES_1_002_CA_1_evaluation    HOBBIES_1_002    HOBBIES_1    HOBBIES   \n",
       "4    HOBBIES_1_003_CA_1_evaluation    HOBBIES_1_003    HOBBIES_1    HOBBIES   \n",
       "\n",
       "  store_id state_id    d  sales  \n",
       "0     CA_1       CA  d_1      0  \n",
       "1     TX_2       TX  d_1      0  \n",
       "2     TX_2       TX  d_1      0  \n",
       "3     CA_1       CA  d_1      0  \n",
       "4     CA_1       CA  d_1      0  "
      ]
     },
     "execution_count": 20,
     "metadata": {},
     "output_type": "execute_result"
    }
   ],
   "source": [
    "#melt will take all id_vars, and the rest will be transpossed in 1 column, which in this case is perfect\n",
    "sales = dd.melt(sales, id_vars = ['id', 'item_id', 'dept_id', 'cat_id', 'store_id', \n",
    "                                           'state_id'], var_name = 'd', value_name = 'sales')\n",
    "print(len(sales),\",\",len(sales.columns))\n",
    "sales.head()"
   ]
  },
  {
   "cell_type": "code",
   "execution_count": 21,
   "metadata": {},
   "outputs": [],
   "source": [
    "sales_cal = dd.merge(sales, calendar, on=\"d\", how=\"left\")"
   ]
  },
  {
   "cell_type": "code",
   "execution_count": 22,
   "metadata": {},
   "outputs": [],
   "source": [
    "df = dd.merge(sales_cal, price, on=[\"store_id\", \"item_id\", \"wm_yr_wk\"], how=\"left\")"
   ]
  },
  {
   "cell_type": "code",
   "execution_count": 23,
   "metadata": {},
   "outputs": [
    {
     "name": "stdout",
     "output_type": "stream",
     "text": [
      "Garbage Collector collected: 104 elements\n"
     ]
    }
   ],
   "source": [
    "#freeing up space\n",
    "del sales, calendar, price, sales_cal\n",
    "collected = gc.collect()\n",
    "print(\"Garbage Collector collected:\", collected, \"elements\")"
   ]
  },
  {
   "cell_type": "code",
   "execution_count": 24,
   "metadata": {
    "scrolled": false
   },
   "outputs": [
    {
     "name": "stdout",
     "output_type": "stream",
     "text": [
      "60034810 , 22\n",
      "CPU times: user 3.05 s, sys: 392 ms, total: 3.44 s\n",
      "Wall time: 2min 27s\n"
     ]
    },
    {
     "data": {
      "text/html": [
       "<div>\n",
       "<style scoped>\n",
       "    .dataframe tbody tr th:only-of-type {\n",
       "        vertical-align: middle;\n",
       "    }\n",
       "\n",
       "    .dataframe tbody tr th {\n",
       "        vertical-align: top;\n",
       "    }\n",
       "\n",
       "    .dataframe thead th {\n",
       "        text-align: right;\n",
       "    }\n",
       "</style>\n",
       "<table border=\"1\" class=\"dataframe\">\n",
       "  <thead>\n",
       "    <tr style=\"text-align: right;\">\n",
       "      <th></th>\n",
       "      <th>id</th>\n",
       "      <th>item_id</th>\n",
       "      <th>dept_id</th>\n",
       "      <th>cat_id</th>\n",
       "      <th>store_id</th>\n",
       "      <th>state_id</th>\n",
       "      <th>d</th>\n",
       "      <th>sales</th>\n",
       "      <th>date</th>\n",
       "      <th>wm_yr_wk</th>\n",
       "      <th>...</th>\n",
       "      <th>month</th>\n",
       "      <th>year</th>\n",
       "      <th>event_name_1</th>\n",
       "      <th>event_type_1</th>\n",
       "      <th>event_name_2</th>\n",
       "      <th>event_type_2</th>\n",
       "      <th>snap_CA</th>\n",
       "      <th>snap_TX</th>\n",
       "      <th>snap_WI</th>\n",
       "      <th>sell_price</th>\n",
       "    </tr>\n",
       "  </thead>\n",
       "  <tbody>\n",
       "    <tr>\n",
       "      <th>0</th>\n",
       "      <td>HOUSEHOLD_1_223_TX_2_evaluation</td>\n",
       "      <td>HOUSEHOLD_1_223</td>\n",
       "      <td>HOUSEHOLD_1</td>\n",
       "      <td>HOUSEHOLD</td>\n",
       "      <td>TX_2</td>\n",
       "      <td>TX</td>\n",
       "      <td>d_2</td>\n",
       "      <td>0</td>\n",
       "      <td>2011-01-30</td>\n",
       "      <td>11101</td>\n",
       "      <td>...</td>\n",
       "      <td>1</td>\n",
       "      <td>2011</td>\n",
       "      <td>no event</td>\n",
       "      <td>no event</td>\n",
       "      <td>no event</td>\n",
       "      <td>no event</td>\n",
       "      <td>0</td>\n",
       "      <td>0</td>\n",
       "      <td>0</td>\n",
       "      <td>NaN</td>\n",
       "    </tr>\n",
       "    <tr>\n",
       "      <th>1</th>\n",
       "      <td>HOUSEHOLD_1_224_TX_2_evaluation</td>\n",
       "      <td>HOUSEHOLD_1_224</td>\n",
       "      <td>HOUSEHOLD_1</td>\n",
       "      <td>HOUSEHOLD</td>\n",
       "      <td>TX_2</td>\n",
       "      <td>TX</td>\n",
       "      <td>d_2</td>\n",
       "      <td>0</td>\n",
       "      <td>2011-01-30</td>\n",
       "      <td>11101</td>\n",
       "      <td>...</td>\n",
       "      <td>1</td>\n",
       "      <td>2011</td>\n",
       "      <td>no event</td>\n",
       "      <td>no event</td>\n",
       "      <td>no event</td>\n",
       "      <td>no event</td>\n",
       "      <td>0</td>\n",
       "      <td>0</td>\n",
       "      <td>0</td>\n",
       "      <td>8.97</td>\n",
       "    </tr>\n",
       "    <tr>\n",
       "      <th>2</th>\n",
       "      <td>HOBBIES_1_008_CA_1_evaluation</td>\n",
       "      <td>HOBBIES_1_008</td>\n",
       "      <td>HOBBIES_1</td>\n",
       "      <td>HOBBIES</td>\n",
       "      <td>CA_1</td>\n",
       "      <td>CA</td>\n",
       "      <td>d_2</td>\n",
       "      <td>15</td>\n",
       "      <td>2011-01-30</td>\n",
       "      <td>11101</td>\n",
       "      <td>...</td>\n",
       "      <td>1</td>\n",
       "      <td>2011</td>\n",
       "      <td>no event</td>\n",
       "      <td>no event</td>\n",
       "      <td>no event</td>\n",
       "      <td>no event</td>\n",
       "      <td>0</td>\n",
       "      <td>0</td>\n",
       "      <td>0</td>\n",
       "      <td>0.46</td>\n",
       "    </tr>\n",
       "    <tr>\n",
       "      <th>3</th>\n",
       "      <td>HOBBIES_1_011_CA_1_evaluation</td>\n",
       "      <td>HOBBIES_1_011</td>\n",
       "      <td>HOBBIES_1</td>\n",
       "      <td>HOBBIES</td>\n",
       "      <td>CA_1</td>\n",
       "      <td>CA</td>\n",
       "      <td>d_2</td>\n",
       "      <td>0</td>\n",
       "      <td>2011-01-30</td>\n",
       "      <td>11101</td>\n",
       "      <td>...</td>\n",
       "      <td>1</td>\n",
       "      <td>2011</td>\n",
       "      <td>no event</td>\n",
       "      <td>no event</td>\n",
       "      <td>no event</td>\n",
       "      <td>no event</td>\n",
       "      <td>0</td>\n",
       "      <td>0</td>\n",
       "      <td>0</td>\n",
       "      <td>NaN</td>\n",
       "    </tr>\n",
       "    <tr>\n",
       "      <th>4</th>\n",
       "      <td>HOUSEHOLD_1_235_TX_2_evaluation</td>\n",
       "      <td>HOUSEHOLD_1_235</td>\n",
       "      <td>HOUSEHOLD_1</td>\n",
       "      <td>HOUSEHOLD</td>\n",
       "      <td>TX_2</td>\n",
       "      <td>TX</td>\n",
       "      <td>d_2</td>\n",
       "      <td>2</td>\n",
       "      <td>2011-01-30</td>\n",
       "      <td>11101</td>\n",
       "      <td>...</td>\n",
       "      <td>1</td>\n",
       "      <td>2011</td>\n",
       "      <td>no event</td>\n",
       "      <td>no event</td>\n",
       "      <td>no event</td>\n",
       "      <td>no event</td>\n",
       "      <td>0</td>\n",
       "      <td>0</td>\n",
       "      <td>0</td>\n",
       "      <td>3.28</td>\n",
       "    </tr>\n",
       "  </tbody>\n",
       "</table>\n",
       "<p>5 rows × 22 columns</p>\n",
       "</div>"
      ],
      "text/plain": [
       "                                id          item_id      dept_id     cat_id  \\\n",
       "0  HOUSEHOLD_1_223_TX_2_evaluation  HOUSEHOLD_1_223  HOUSEHOLD_1  HOUSEHOLD   \n",
       "1  HOUSEHOLD_1_224_TX_2_evaluation  HOUSEHOLD_1_224  HOUSEHOLD_1  HOUSEHOLD   \n",
       "2    HOBBIES_1_008_CA_1_evaluation    HOBBIES_1_008    HOBBIES_1    HOBBIES   \n",
       "3    HOBBIES_1_011_CA_1_evaluation    HOBBIES_1_011    HOBBIES_1    HOBBIES   \n",
       "4  HOUSEHOLD_1_235_TX_2_evaluation  HOUSEHOLD_1_235  HOUSEHOLD_1  HOUSEHOLD   \n",
       "\n",
       "  store_id state_id    d  sales       date  wm_yr_wk  ... month  year  \\\n",
       "0     TX_2       TX  d_2      0 2011-01-30     11101  ...     1  2011   \n",
       "1     TX_2       TX  d_2      0 2011-01-30     11101  ...     1  2011   \n",
       "2     CA_1       CA  d_2     15 2011-01-30     11101  ...     1  2011   \n",
       "3     CA_1       CA  d_2      0 2011-01-30     11101  ...     1  2011   \n",
       "4     TX_2       TX  d_2      2 2011-01-30     11101  ...     1  2011   \n",
       "\n",
       "   event_name_1  event_type_1 event_name_2 event_type_2 snap_CA snap_TX  \\\n",
       "0      no event      no event     no event     no event       0       0   \n",
       "1      no event      no event     no event     no event       0       0   \n",
       "2      no event      no event     no event     no event       0       0   \n",
       "3      no event      no event     no event     no event       0       0   \n",
       "4      no event      no event     no event     no event       0       0   \n",
       "\n",
       "   snap_WI  sell_price  \n",
       "0        0         NaN  \n",
       "1        0        8.97  \n",
       "2        0        0.46  \n",
       "3        0         NaN  \n",
       "4        0        3.28  \n",
       "\n",
       "[5 rows x 22 columns]"
      ]
     },
     "execution_count": 24,
     "metadata": {},
     "output_type": "execute_result"
    }
   ],
   "source": [
    "print(len(df),\",\",len(df.columns))\n",
    "%time df.head()"
   ]
  },
  {
   "cell_type": "code",
   "execution_count": 25,
   "metadata": {
    "scrolled": false
   },
   "outputs": [
    {
     "name": "stdout",
     "output_type": "stream",
     "text": [
      "<class 'dask.dataframe.core.DataFrame'>\n",
      "Columns: 22 entries, id to sell_price\n",
      "dtypes: category(1), category(1), category(1), category(1), category(1), category(1), category(1), category(1), category(1), category(1), datetime64[ns](1), object(2), float64(1), uint16(3), uint8(5)"
     ]
    }
   ],
   "source": [
    "df.info()"
   ]
  },
  {
   "cell_type": "markdown",
   "metadata": {},
   "source": [
    "### Choosing Final Distribution"
   ]
  },
  {
   "cell_type": "code",
   "execution_count": 26,
   "metadata": {
    "scrolled": true
   },
   "outputs": [
    {
     "data": {
      "text/plain": [
       "FOODS        28294530\n",
       "HOUSEHOLD    20615430\n",
       "HOBBIES      11124850\n",
       "Name: cat_id, dtype: int64"
      ]
     },
     "execution_count": 26,
     "metadata": {},
     "output_type": "execute_result"
    }
   ],
   "source": [
    "cat = df.cat_id.value_counts().compute()\n",
    "cat"
   ]
  },
  {
   "cell_type": "code",
   "execution_count": 27,
   "metadata": {},
   "outputs": [
    {
     "data": {
      "image/png": "[encoded data removed]",
      "text/plain": [
       "<Figure size 1080x360 with 1 Axes>"
      ]
     },
     "metadata": {},
     "output_type": "display_data"
    }
   ],
   "source": [
    "plt.figure(figsize=(15,5))\n",
    "plt.pie(cat, labels=cat.keys(), autopct='%1.1f%%')\n",
    "plt.title(\"Categories Distribution\")\n",
    "plt.legend(loc=2)\n",
    "plt.show()"
   ]
  },
  {
   "cell_type": "code",
   "execution_count": 28,
   "metadata": {},
   "outputs": [
    {
     "name": "stdout",
     "output_type": "stream",
     "text": [
      "CPU times: user 4 µs, sys: 0 ns, total: 4 µs\n",
      "Wall time: 8.11 µs\n"
     ]
    },
    {
     "data": {
      "text/plain": [
       "WI_3    6003481\n",
       "WI_2    6003481\n",
       "WI_1    6003481\n",
       "TX_3    6003481\n",
       "TX_2    6003481\n",
       "TX_1    6003481\n",
       "CA_4    6003481\n",
       "CA_3    6003481\n",
       "CA_2    6003481\n",
       "CA_1    6003481\n",
       "Name: store_id, dtype: int64"
      ]
     },
     "execution_count": 28,
     "metadata": {},
     "output_type": "execute_result"
    }
   ],
   "source": [
    "store = df.store_id.value_counts().compute()\n",
    "%time store"
   ]
  },
  {
   "cell_type": "code",
   "execution_count": 29,
   "metadata": {},
   "outputs": [
    {
     "data": {
      "image/png": "[encoded data removed]",
      "text/plain": [
       "<Figure size 1080x360 with 1 Axes>"
      ]
     },
     "metadata": {},
     "output_type": "display_data"
    }
   ],
   "source": [
    "plt.figure(figsize=(15,5))\n",
    "plt.pie(store, labels=store.keys(), autopct='%1.1f%%')\n",
    "plt.title(\"Stores Distribution\")\n",
    "plt.legend(loc=2)\n",
    "plt.show()"
   ]
  },
  {
   "cell_type": "code",
   "execution_count": 30,
   "metadata": {},
   "outputs": [
    {
     "data": {
      "text/plain": [
       "CA    24013924\n",
       "WI    18010443\n",
       "TX    18010443\n",
       "Name: state_id, dtype: int64"
      ]
     },
     "execution_count": 30,
     "metadata": {},
     "output_type": "execute_result"
    }
   ],
   "source": [
    "state = df.state_id.value_counts().compute()\n",
    "state"
   ]
  },
  {
   "cell_type": "code",
   "execution_count": 31,
   "metadata": {
    "scrolled": false
   },
   "outputs": [
    {
     "data": {
      "image/png": "[encoded data removed]",
      "text/plain": [
       "<Figure size 1080x360 with 1 Axes>"
      ]
     },
     "metadata": {},
     "output_type": "display_data"
    }
   ],
   "source": [
    "plt.figure(figsize=(15,5))\n",
    "plt.pie(state, labels=state.keys(), autopct='%1.1f%%')\n",
    "plt.title(\"States Distribution\")\n",
    "plt.legend(loc=2)\n",
    "plt.show()"
   ]
  },
  {
   "cell_type": "code",
   "execution_count": 32,
   "metadata": {
    "scrolled": true
   },
   "outputs": [
    {
     "name": "stdout",
     "output_type": "stream",
     "text": [
      "Garbage Collector collected: 2385 elements\n"
     ]
    }
   ],
   "source": [
    "del cat, state\n",
    "collected = gc.collect()\n",
    "print(\"Garbage Collector collected:\", collected, \"elements\")"
   ]
  },
  {
   "cell_type": "markdown",
   "metadata": {},
   "source": [
    "#### We will divide the final df based in the stores distribution, as it is the most equitable and also we will be able to work fine with the memory usage"
   ]
  },
  {
   "cell_type": "code",
   "execution_count": 33,
   "metadata": {},
   "outputs": [
    {
     "name": "stdout",
     "output_type": "stream",
     "text": [
      "Saving Dataset\n",
      "Saving Dataset\n",
      "Saving Dataset\n",
      "Saving Dataset\n",
      "Saving Dataset\n",
      "Saving Dataset\n",
      "Saving Dataset\n",
      "Saving Dataset\n",
      "Saving Dataset\n",
      "Saving Dataset\n",
      "df_WI_3 size: 60034810 , 22\n",
      "df_WI_2 size: 60034810 , 22\n",
      "df_WI_1 size: 60034810 , 22\n",
      "df_TX_3 size: 60034810 , 22\n",
      "df_TX_2 size: 60034810 , 22\n",
      "df_TX_1 size: 60034810 , 22\n",
      "df_CA_4 size: 60034810 , 22\n",
      "df_CA_3 size: 60034810 , 22\n",
      "df_CA_2 size: 60034810 , 22\n",
      "df_CA_1 size: 60034810 , 22\n"
     ]
    }
   ],
   "source": [
    "dfs_dict = {}\n",
    "for s in store.keys():\n",
    "    print(\"Saving Dataset\")\n",
    "    dfs_dict[\"df_\" + s] = df[df.store_id==s]\n",
    "\n",
    "for names, values in dfs_dict.items():\n",
    "    print(names, \"size:\", len(df),\",\",len(df.columns))\n",
    "    values.to_csv(f\"OUTPUT/d_{names}.csv\", single_file=True)"
   ]
  },
  {
   "cell_type": "code",
   "execution_count": 34,
   "metadata": {},
   "outputs": [
    {
     "name": "stdout",
     "output_type": "stream",
     "text": [
      "435\n"
     ]
    }
   ],
   "source": [
    "del df\n",
    "collected = gc.collect()\n",
    "print(collected)"
   ]
  }
 ],
 "metadata": {
  "kernelspec": {
   "display_name": "Python 3",
   "language": "python",
   "name": "python3"
  },
  "language_info": {
   "codemirror_mode": {
    "name": "ipython",
    "version": 3
   },
   "file_extension": ".py",
   "mimetype": "text/x-python",
   "name": "python",
   "nbconvert_exporter": "python",
   "pygments_lexer": "ipython3",
   "version": "3.7.6"
  }
 },
 "nbformat": 4,
 "nbformat_minor": 2
}
